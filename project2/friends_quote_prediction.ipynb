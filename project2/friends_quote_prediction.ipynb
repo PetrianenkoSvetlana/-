{
 "cells": [
  {
   "cell_type": "markdown",
   "id": "13dcf43b",
   "metadata": {},
   "source": [
    "https://www.kaggle.com/ryanstonebraker/friends-transcript/version/5"
   ]
  },
  {
   "cell_type": "markdown",
   "id": "1dd2636c",
   "metadata": {},
   "source": [
    "предсказываем автора цитаты"
   ]
  },
  {
   "cell_type": "code",
   "execution_count": 1,
   "id": "1c9bc9d2",
   "metadata": {},
   "outputs": [],
   "source": [
    "import pandas as pd\n",
    "import seaborn as sns\n",
    "import numpy as np\n",
    "import matplotlib.pyplot as plt\n",
    "import warnings\n",
    "from sklearn import *\n",
    "import xgboost as xgb\n",
    "from catboost import CatBoostClassifier\n",
    "import lightgbm as lgb"
   ]
  },
  {
   "cell_type": "code",
   "execution_count": 2,
   "id": "7c4bbf80",
   "metadata": {},
   "outputs": [
    {
     "data": {
      "text/html": [
       "<div>\n",
       "<style scoped>\n",
       "    .dataframe tbody tr th:only-of-type {\n",
       "        vertical-align: middle;\n",
       "    }\n",
       "\n",
       "    .dataframe tbody tr th {\n",
       "        vertical-align: top;\n",
       "    }\n",
       "\n",
       "    .dataframe thead th {\n",
       "        text-align: right;\n",
       "    }\n",
       "</style>\n",
       "<table border=\"1\" class=\"dataframe\">\n",
       "  <thead>\n",
       "    <tr style=\"text-align: right;\">\n",
       "      <th></th>\n",
       "      <th>author</th>\n",
       "      <th>episode_number</th>\n",
       "      <th>episode_title</th>\n",
       "      <th>quote</th>\n",
       "      <th>quote_order</th>\n",
       "      <th>season</th>\n",
       "    </tr>\n",
       "  </thead>\n",
       "  <tbody>\n",
       "    <tr>\n",
       "      <th>0</th>\n",
       "      <td>Monica</td>\n",
       "      <td>1.0</td>\n",
       "      <td>Monica Gets A Roommate</td>\n",
       "      <td>There's nothing to tell! He's just some guy I ...</td>\n",
       "      <td>0.0</td>\n",
       "      <td>1.0</td>\n",
       "    </tr>\n",
       "    <tr>\n",
       "      <th>1</th>\n",
       "      <td>Joey</td>\n",
       "      <td>1.0</td>\n",
       "      <td>Monica Gets A Roommate</td>\n",
       "      <td>C'mon, you're going out with the guy! There's ...</td>\n",
       "      <td>1.0</td>\n",
       "      <td>1.0</td>\n",
       "    </tr>\n",
       "    <tr>\n",
       "      <th>2</th>\n",
       "      <td>Chandler</td>\n",
       "      <td>1.0</td>\n",
       "      <td>Monica Gets A Roommate</td>\n",
       "      <td>All right Joey, be nice. So does he have a hum...</td>\n",
       "      <td>2.0</td>\n",
       "      <td>1.0</td>\n",
       "    </tr>\n",
       "    <tr>\n",
       "      <th>3</th>\n",
       "      <td>Phoebe</td>\n",
       "      <td>1.0</td>\n",
       "      <td>Monica Gets A Roommate</td>\n",
       "      <td>Wait, does he eat chalk?</td>\n",
       "      <td>3.0</td>\n",
       "      <td>1.0</td>\n",
       "    </tr>\n",
       "    <tr>\n",
       "      <th>4</th>\n",
       "      <td>Phoebe</td>\n",
       "      <td>1.0</td>\n",
       "      <td>Monica Gets A Roommate</td>\n",
       "      <td>Just, 'cause, I don't want her to go through w...</td>\n",
       "      <td>4.0</td>\n",
       "      <td>1.0</td>\n",
       "    </tr>\n",
       "    <tr>\n",
       "      <th>...</th>\n",
       "      <td>...</td>\n",
       "      <td>...</td>\n",
       "      <td>...</td>\n",
       "      <td>...</td>\n",
       "      <td>...</td>\n",
       "      <td>...</td>\n",
       "    </tr>\n",
       "    <tr>\n",
       "      <th>60286</th>\n",
       "      <td>Chandler</td>\n",
       "      <td>17.0</td>\n",
       "      <td>The Last One, Part I &amp; II</td>\n",
       "      <td>Oh, it's gonna be okay.</td>\n",
       "      <td>581.0</td>\n",
       "      <td>10.0</td>\n",
       "    </tr>\n",
       "    <tr>\n",
       "      <th>60287</th>\n",
       "      <td>Rachel</td>\n",
       "      <td>17.0</td>\n",
       "      <td>The Last One, Part I &amp; II</td>\n",
       "      <td>(crying) Do you guys have to go to the new hou...</td>\n",
       "      <td>582.0</td>\n",
       "      <td>10.0</td>\n",
       "    </tr>\n",
       "    <tr>\n",
       "      <th>60288</th>\n",
       "      <td>Monica</td>\n",
       "      <td>17.0</td>\n",
       "      <td>The Last One, Part I &amp; II</td>\n",
       "      <td>We got some time.</td>\n",
       "      <td>583.0</td>\n",
       "      <td>10.0</td>\n",
       "    </tr>\n",
       "    <tr>\n",
       "      <th>60289</th>\n",
       "      <td>Rachel</td>\n",
       "      <td>17.0</td>\n",
       "      <td>The Last One, Part I &amp; II</td>\n",
       "      <td>Okay, should we get some coffee?</td>\n",
       "      <td>584.0</td>\n",
       "      <td>10.0</td>\n",
       "    </tr>\n",
       "    <tr>\n",
       "      <th>60290</th>\n",
       "      <td>Chandler</td>\n",
       "      <td>17.0</td>\n",
       "      <td>The Last One, Part I &amp; II</td>\n",
       "      <td>Sure. Where?</td>\n",
       "      <td>585.0</td>\n",
       "      <td>10.0</td>\n",
       "    </tr>\n",
       "  </tbody>\n",
       "</table>\n",
       "<p>60291 rows × 6 columns</p>\n",
       "</div>"
      ],
      "text/plain": [
       "         author  episode_number              episode_title  \\\n",
       "0        Monica             1.0     Monica Gets A Roommate   \n",
       "1          Joey             1.0     Monica Gets A Roommate   \n",
       "2      Chandler             1.0     Monica Gets A Roommate   \n",
       "3        Phoebe             1.0     Monica Gets A Roommate   \n",
       "4        Phoebe             1.0     Monica Gets A Roommate   \n",
       "...         ...             ...                        ...   \n",
       "60286  Chandler            17.0  The Last One, Part I & II   \n",
       "60287    Rachel            17.0  The Last One, Part I & II   \n",
       "60288    Monica            17.0  The Last One, Part I & II   \n",
       "60289    Rachel            17.0  The Last One, Part I & II   \n",
       "60290  Chandler            17.0  The Last One, Part I & II   \n",
       "\n",
       "                                                   quote  quote_order  season  \n",
       "0      There's nothing to tell! He's just some guy I ...          0.0     1.0  \n",
       "1      C'mon, you're going out with the guy! There's ...          1.0     1.0  \n",
       "2      All right Joey, be nice. So does he have a hum...          2.0     1.0  \n",
       "3                               Wait, does he eat chalk?          3.0     1.0  \n",
       "4      Just, 'cause, I don't want her to go through w...          4.0     1.0  \n",
       "...                                                  ...          ...     ...  \n",
       "60286                            Oh, it's gonna be okay.        581.0    10.0  \n",
       "60287  (crying) Do you guys have to go to the new hou...        582.0    10.0  \n",
       "60288                                  We got some time.        583.0    10.0  \n",
       "60289                   Okay, should we get some coffee?        584.0    10.0  \n",
       "60290                                       Sure. Where?        585.0    10.0  \n",
       "\n",
       "[60291 rows x 6 columns]"
      ]
     },
     "execution_count": 2,
     "metadata": {},
     "output_type": "execute_result"
    }
   ],
   "source": [
    "pd.set_option('display.max_columns', None)\n",
    "data = pd.read_csv('friends_quotes.csv')\n",
    "data.astype(float, errors='ignore')"
   ]
  },
  {
   "cell_type": "code",
   "execution_count": 3,
   "id": "9e683205",
   "metadata": {},
   "outputs": [
    {
     "data": {
      "text/plain": [
       "(60291, 6)"
      ]
     },
     "execution_count": 3,
     "metadata": {},
     "output_type": "execute_result"
    }
   ],
   "source": [
    "data.shape"
   ]
  },
  {
   "cell_type": "code",
   "execution_count": 4,
   "id": "71e35927",
   "metadata": {},
   "outputs": [],
   "source": [
    "columns = ['author', 'episode_number', 'episode_title', 'quote', 'quote_order', 'season']\n",
    "data1 = data.loc[:, columns].copy(deep=True).reset_index(drop=True)\n",
    "le = preprocessing.LabelEncoder()\n",
    "for c in ['author', 'episode_number', 'episode_title', 'quote', 'quote_order', 'season']:\n",
    "    data1[c] = le.fit_transform(data1[c])"
   ]
  },
  {
   "cell_type": "code",
   "execution_count": 5,
   "id": "025fb1e8",
   "metadata": {},
   "outputs": [],
   "source": [
    "cv = model_selection.StratifiedKFold(n_splits=10, shuffle=True, random_state=10)"
   ]
  },
  {
   "cell_type": "code",
   "execution_count": 6,
   "id": "8873ff07",
   "metadata": {},
   "outputs": [
    {
     "name": "stdout",
     "output_type": "stream",
     "text": [
      "10000\n"
     ]
    }
   ],
   "source": [
    "data2 = data1[0:10000]\n",
    "print(len(data2))"
   ]
  },
  {
   "cell_type": "code",
   "execution_count": 7,
   "id": "298c7bb8",
   "metadata": {},
   "outputs": [
    {
     "data": {
      "text/html": [
       "<div>\n",
       "<style scoped>\n",
       "    .dataframe tbody tr th:only-of-type {\n",
       "        vertical-align: middle;\n",
       "    }\n",
       "\n",
       "    .dataframe tbody tr th {\n",
       "        vertical-align: top;\n",
       "    }\n",
       "\n",
       "    .dataframe thead th {\n",
       "        text-align: right;\n",
       "    }\n",
       "</style>\n",
       "<table border=\"1\" class=\"dataframe\">\n",
       "  <thead>\n",
       "    <tr style=\"text-align: right;\">\n",
       "      <th></th>\n",
       "      <th>author</th>\n",
       "      <th>episode_number</th>\n",
       "      <th>episode_title</th>\n",
       "      <th>quote</th>\n",
       "      <th>quote_order</th>\n",
       "      <th>season</th>\n",
       "    </tr>\n",
       "  </thead>\n",
       "  <tbody>\n",
       "    <tr>\n",
       "      <th>0</th>\n",
       "      <td>579</td>\n",
       "      <td>0</td>\n",
       "      <td>53</td>\n",
       "      <td>38870</td>\n",
       "      <td>0</td>\n",
       "      <td>0</td>\n",
       "    </tr>\n",
       "    <tr>\n",
       "      <th>1</th>\n",
       "      <td>425</td>\n",
       "      <td>0</td>\n",
       "      <td>53</td>\n",
       "      <td>9466</td>\n",
       "      <td>1</td>\n",
       "      <td>0</td>\n",
       "    </tr>\n",
       "    <tr>\n",
       "      <th>2</th>\n",
       "      <td>166</td>\n",
       "      <td>0</td>\n",
       "      <td>53</td>\n",
       "      <td>6552</td>\n",
       "      <td>2</td>\n",
       "      <td>0</td>\n",
       "    </tr>\n",
       "    <tr>\n",
       "      <th>3</th>\n",
       "      <td>684</td>\n",
       "      <td>0</td>\n",
       "      <td>53</td>\n",
       "      <td>40766</td>\n",
       "      <td>3</td>\n",
       "      <td>0</td>\n",
       "    </tr>\n",
       "    <tr>\n",
       "      <th>4</th>\n",
       "      <td>684</td>\n",
       "      <td>0</td>\n",
       "      <td>53</td>\n",
       "      <td>21436</td>\n",
       "      <td>4</td>\n",
       "      <td>0</td>\n",
       "    </tr>\n",
       "    <tr>\n",
       "      <th>...</th>\n",
       "      <td>...</td>\n",
       "      <td>...</td>\n",
       "      <td>...</td>\n",
       "      <td>...</td>\n",
       "      <td>...</td>\n",
       "      <td>...</td>\n",
       "    </tr>\n",
       "    <tr>\n",
       "      <th>9995</th>\n",
       "      <td>733</td>\n",
       "      <td>17</td>\n",
       "      <td>22</td>\n",
       "      <td>6005</td>\n",
       "      <td>158</td>\n",
       "      <td>1</td>\n",
       "    </tr>\n",
       "    <tr>\n",
       "      <th>9996</th>\n",
       "      <td>727</td>\n",
       "      <td>17</td>\n",
       "      <td>22</td>\n",
       "      <td>31126</td>\n",
       "      <td>159</td>\n",
       "      <td>1</td>\n",
       "    </tr>\n",
       "    <tr>\n",
       "      <th>9997</th>\n",
       "      <td>512</td>\n",
       "      <td>17</td>\n",
       "      <td>22</td>\n",
       "      <td>25088</td>\n",
       "      <td>160</td>\n",
       "      <td>1</td>\n",
       "    </tr>\n",
       "    <tr>\n",
       "      <th>9998</th>\n",
       "      <td>727</td>\n",
       "      <td>17</td>\n",
       "      <td>22</td>\n",
       "      <td>31242</td>\n",
       "      <td>161</td>\n",
       "      <td>1</td>\n",
       "    </tr>\n",
       "    <tr>\n",
       "      <th>9999</th>\n",
       "      <td>512</td>\n",
       "      <td>17</td>\n",
       "      <td>22</td>\n",
       "      <td>7279</td>\n",
       "      <td>162</td>\n",
       "      <td>1</td>\n",
       "    </tr>\n",
       "  </tbody>\n",
       "</table>\n",
       "<p>10000 rows × 6 columns</p>\n",
       "</div>"
      ],
      "text/plain": [
       "      author  episode_number  episode_title  quote  quote_order  season\n",
       "0        579               0             53  38870            0       0\n",
       "1        425               0             53   9466            1       0\n",
       "2        166               0             53   6552            2       0\n",
       "3        684               0             53  40766            3       0\n",
       "4        684               0             53  21436            4       0\n",
       "...      ...             ...            ...    ...          ...     ...\n",
       "9995     733              17             22   6005          158       1\n",
       "9996     727              17             22  31126          159       1\n",
       "9997     512              17             22  25088          160       1\n",
       "9998     727              17             22  31242          161       1\n",
       "9999     512              17             22   7279          162       1\n",
       "\n",
       "[10000 rows x 6 columns]"
      ]
     },
     "execution_count": 7,
     "metadata": {},
     "output_type": "execute_result"
    }
   ],
   "source": [
    "data2"
   ]
  },
  {
   "cell_type": "code",
   "execution_count": 13,
   "id": "e344aa9b",
   "metadata": {},
   "outputs": [
    {
     "name": "stdout",
     "output_type": "stream",
     "text": [
      "Tree:  0.161\n",
      "Random forest: 0.2734\n",
      "XGBoost: 0.2723\n",
      "LightGBM: 0.0806\n",
      "CatBoost: 0.2538\n",
      "Wall time: 1h 31min 16s\n"
     ]
    }
   ],
   "source": [
    "%%time\n",
    "with warnings.catch_warnings():\n",
    "    warnings.simplefilter(\"ignore\")\n",
    "\n",
    "    Tree = tree.DecisionTreeClassifier(max_depth=2, criterion='entropy')\n",
    "    prediction = model_selection.cross_val_predict(Tree, data2.loc[:, data2.columns!='author'], data2['author'], cv=cv)\n",
    "    acc = metrics.accuracy_score(data2['author'], prediction)\n",
    "    print('Tree: {:6.4}'.format(acc))\n",
    "\n",
    "    RandomForest = ensemble.RandomForestClassifier(n_estimators=250, max_depth=10                                          )\n",
    "    prediction = model_selection.cross_val_predict(RandomForest, data2.loc[:, data2.columns!='author'], data2['author'], cv=cv)\n",
    "    acc = metrics.accuracy_score(data2['author'], prediction)\n",
    "    print('Random forest: {:6.4}'.format(acc))\n",
    "\n",
    "    XGBoost = xgb.XGBClassifier(eval_metric='logloss')\n",
    "    prediction = model_selection.cross_val_predict(XGBoost, data2.loc[:, data2.columns!='author'], data2['author'], cv=cv)\n",
    "    acc = metrics.accuracy_score(data2['author'], prediction)\n",
    "    print('XGBoost: {:6.4}'.format(acc))\n",
    "\n",
    "    LightGBM = lgb.LGBMClassifier(verbosity=-1)\n",
    "    prediction = model_selection.cross_val_predict(LightGBM, data2.loc[:, data2.columns!='author'], data2['author'], cv=cv)\n",
    "    acc = metrics.accuracy_score(data2['author'], prediction)\n",
    "    print('LightGBM: {:6.4}'.format(acc))\n",
    "\n",
    "    CatBoost = CatBoostClassifier(logging_level='Silent', learning_rate=0.015)\n",
    "    prediction = model_selection.cross_val_predict(CatBoost, data2.loc[:, data2.columns!='author'], data2['author'], cv=cv)\n",
    "    acc = metrics.accuracy_score(data2['author'], prediction)\n",
    "    print('CatBoost: {:6.4}'.format(acc))"
   ]
  },
  {
   "cell_type": "code",
   "execution_count": 67,
   "id": "61ecbb14",
   "metadata": {},
   "outputs": [
    {
     "name": "stdout",
     "output_type": "stream",
     "text": [
      "1000\n"
     ]
    }
   ],
   "source": [
    "data3 = data1[0:1000]\n",
    "data3.astype(float, errors='ignore')\n",
    "print(len(data3))"
   ]
  },
  {
   "cell_type": "code",
   "execution_count": 68,
   "id": "3a291a30",
   "metadata": {},
   "outputs": [],
   "source": [
    "cv1 = model_selection.StratifiedKFold(n_splits=10, shuffle=True, random_state=10)"
   ]
  },
  {
   "cell_type": "code",
   "execution_count": 69,
   "id": "9faee9bc",
   "metadata": {},
   "outputs": [
    {
     "name": "stdout",
     "output_type": "stream",
     "text": [
      "Tree:   0.24\n",
      "Wall time: 134 ms\n"
     ]
    },
    {
     "name": "stderr",
     "output_type": "stream",
     "text": [
      "C:\\Anaconda3\\lib\\site-packages\\sklearn\\model_selection\\_split.py:666: UserWarning: The least populated class in y has only 1 members, which is less than n_splits=10.\n",
      "  warnings.warn((\"The least populated class in y has only %d\"\n"
     ]
    }
   ],
   "source": [
    "%%time\n",
    "Tree = tree.DecisionTreeClassifier(max_depth=10, criterion='entropy')\n",
    "prediction = model_selection.cross_val_predict(Tree, data3.loc[:, data3.columns!='author'], data3['author'], cv=cv1)\n",
    "acc = metrics.accuracy_score(data3['author'], prediction)\n",
    "print('Tree: {:6.4}'.format(acc))"
   ]
  },
  {
   "cell_type": "code",
   "execution_count": 70,
   "id": "7cfc3f3c",
   "metadata": {},
   "outputs": [
    {
     "name": "stderr",
     "output_type": "stream",
     "text": [
      "C:\\Anaconda3\\lib\\site-packages\\sklearn\\model_selection\\_split.py:666: UserWarning: The least populated class in y has only 1 members, which is less than n_splits=10.\n",
      "  warnings.warn((\"The least populated class in y has only %d\"\n"
     ]
    },
    {
     "name": "stdout",
     "output_type": "stream",
     "text": [
      "Random forest:  0.245\n",
      "Wall time: 2.81 s\n"
     ]
    }
   ],
   "source": [
    "%%time\n",
    "RandomForest = ensemble.RandomForestClassifier(n_estimators=100, max_depth=10)\n",
    "prediction = model_selection.cross_val_predict(RandomForest, data3.loc[:, data3.columns!='author'], data3['author'], cv=cv1)\n",
    "acc = metrics.accuracy_score(data3['author'], prediction)\n",
    "print('Random forest: {:6.4}'.format(acc))"
   ]
  },
  {
   "cell_type": "code",
   "execution_count": 71,
   "id": "e585d228",
   "metadata": {},
   "outputs": [
    {
     "name": "stderr",
     "output_type": "stream",
     "text": [
      "C:\\Anaconda3\\lib\\site-packages\\sklearn\\model_selection\\_split.py:666: UserWarning: The least populated class in y has only 1 members, which is less than n_splits=10.\n",
      "  warnings.warn((\"The least populated class in y has only %d\"\n",
      "C:\\Anaconda3\\lib\\site-packages\\xgboost\\sklearn.py:1146: UserWarning: The use of label encoder in XGBClassifier is deprecated and will be removed in a future release. To remove this warning, do the following: 1) Pass option use_label_encoder=False when constructing XGBClassifier object; and 2) Encode your labels (y) as integers starting with 0, i.e. 0, 1, 2, ..., [num_class - 1].\n",
      "  warnings.warn(label_encoder_deprecation_msg, UserWarning)\n",
      "C:\\Anaconda3\\lib\\site-packages\\xgboost\\sklearn.py:1146: UserWarning: The use of label encoder in XGBClassifier is deprecated and will be removed in a future release. To remove this warning, do the following: 1) Pass option use_label_encoder=False when constructing XGBClassifier object; and 2) Encode your labels (y) as integers starting with 0, i.e. 0, 1, 2, ..., [num_class - 1].\n",
      "  warnings.warn(label_encoder_deprecation_msg, UserWarning)\n",
      "C:\\Anaconda3\\lib\\site-packages\\xgboost\\sklearn.py:1146: UserWarning: The use of label encoder in XGBClassifier is deprecated and will be removed in a future release. To remove this warning, do the following: 1) Pass option use_label_encoder=False when constructing XGBClassifier object; and 2) Encode your labels (y) as integers starting with 0, i.e. 0, 1, 2, ..., [num_class - 1].\n",
      "  warnings.warn(label_encoder_deprecation_msg, UserWarning)\n",
      "C:\\Anaconda3\\lib\\site-packages\\xgboost\\sklearn.py:1146: UserWarning: The use of label encoder in XGBClassifier is deprecated and will be removed in a future release. To remove this warning, do the following: 1) Pass option use_label_encoder=False when constructing XGBClassifier object; and 2) Encode your labels (y) as integers starting with 0, i.e. 0, 1, 2, ..., [num_class - 1].\n",
      "  warnings.warn(label_encoder_deprecation_msg, UserWarning)\n",
      "C:\\Anaconda3\\lib\\site-packages\\xgboost\\sklearn.py:1146: UserWarning: The use of label encoder in XGBClassifier is deprecated and will be removed in a future release. To remove this warning, do the following: 1) Pass option use_label_encoder=False when constructing XGBClassifier object; and 2) Encode your labels (y) as integers starting with 0, i.e. 0, 1, 2, ..., [num_class - 1].\n",
      "  warnings.warn(label_encoder_deprecation_msg, UserWarning)\n",
      "C:\\Anaconda3\\lib\\site-packages\\xgboost\\sklearn.py:1146: UserWarning: The use of label encoder in XGBClassifier is deprecated and will be removed in a future release. To remove this warning, do the following: 1) Pass option use_label_encoder=False when constructing XGBClassifier object; and 2) Encode your labels (y) as integers starting with 0, i.e. 0, 1, 2, ..., [num_class - 1].\n",
      "  warnings.warn(label_encoder_deprecation_msg, UserWarning)\n",
      "C:\\Anaconda3\\lib\\site-packages\\xgboost\\sklearn.py:1146: UserWarning: The use of label encoder in XGBClassifier is deprecated and will be removed in a future release. To remove this warning, do the following: 1) Pass option use_label_encoder=False when constructing XGBClassifier object; and 2) Encode your labels (y) as integers starting with 0, i.e. 0, 1, 2, ..., [num_class - 1].\n",
      "  warnings.warn(label_encoder_deprecation_msg, UserWarning)\n",
      "C:\\Anaconda3\\lib\\site-packages\\xgboost\\sklearn.py:1146: UserWarning: The use of label encoder in XGBClassifier is deprecated and will be removed in a future release. To remove this warning, do the following: 1) Pass option use_label_encoder=False when constructing XGBClassifier object; and 2) Encode your labels (y) as integers starting with 0, i.e. 0, 1, 2, ..., [num_class - 1].\n",
      "  warnings.warn(label_encoder_deprecation_msg, UserWarning)\n",
      "C:\\Anaconda3\\lib\\site-packages\\xgboost\\sklearn.py:1146: UserWarning: The use of label encoder in XGBClassifier is deprecated and will be removed in a future release. To remove this warning, do the following: 1) Pass option use_label_encoder=False when constructing XGBClassifier object; and 2) Encode your labels (y) as integers starting with 0, i.e. 0, 1, 2, ..., [num_class - 1].\n",
      "  warnings.warn(label_encoder_deprecation_msg, UserWarning)\n",
      "C:\\Anaconda3\\lib\\site-packages\\xgboost\\sklearn.py:1146: UserWarning: The use of label encoder in XGBClassifier is deprecated and will be removed in a future release. To remove this warning, do the following: 1) Pass option use_label_encoder=False when constructing XGBClassifier object; and 2) Encode your labels (y) as integers starting with 0, i.e. 0, 1, 2, ..., [num_class - 1].\n",
      "  warnings.warn(label_encoder_deprecation_msg, UserWarning)\n"
     ]
    },
    {
     "name": "stdout",
     "output_type": "stream",
     "text": [
      "XGBoost:  0.235\n",
      "Wall time: 13.3 s\n"
     ]
    }
   ],
   "source": [
    "%%time\n",
    "with warnings.catch_warnings():\n",
    "    warnings.simplefilter(\"ignore\")\n",
    "    \n",
    "XGBoost = xgb.XGBClassifier(eval_metric='logloss')\n",
    "prediction = model_selection.cross_val_predict(XGBoost, data3.loc[:, data3.columns!='author'], data3['author'], cv=cv1)\n",
    "acc = metrics.accuracy_score(data3['author'], prediction)\n",
    "print('XGBoost: {:6.4}'.format(acc))"
   ]
  },
  {
   "cell_type": "code",
   "execution_count": 58,
   "id": "d4acfc23",
   "metadata": {},
   "outputs": [
    {
     "name": "stderr",
     "output_type": "stream",
     "text": [
      "C:\\Anaconda3\\lib\\site-packages\\sklearn\\model_selection\\_split.py:666: UserWarning: The least populated class in y has only 1 members, which is less than n_splits=10.\n",
      "  warnings.warn((\"The least populated class in y has only %d\"\n"
     ]
    },
    {
     "name": "stdout",
     "output_type": "stream",
     "text": [
      "LightGBM:  0.241\n",
      "Wall time: 13.3 s\n"
     ]
    }
   ],
   "source": [
    "%%time\n",
    "LightGBM = lgb.LGBMClassifier(verbosity=-1)\n",
    "prediction = model_selection.cross_val_predict(LightGBM, data3.loc[:, data3.columns!='author'], data3['author'], cv=cv1)\n",
    "acc = metrics.accuracy_score(data3['author'], prediction)\n",
    "print('LightGBM: {:6.4}'.format(acc))"
   ]
  },
  {
   "cell_type": "code",
   "execution_count": 66,
   "id": "b9d5ecd4",
   "metadata": {},
   "outputs": [
    {
     "name": "stdout",
     "output_type": "stream",
     "text": [
      "|█████████████████████████████████▍⚠︎     | (!) 5/6 [83%] in 40.0s (0.12/s)\n"
     ]
    }
   ],
   "source": [
    "from alive_progress import alive_bar\n",
    "\n",
    "method = XGBoost\n",
    "# важность признаков\n",
    "with alive_bar(len(data3.columns)) as bar:\n",
    "    importance = {}\n",
    "    for c in data3.columns:\n",
    "        if c == 'author': continue\n",
    "        # пытаемся предсказать результат, используя только один столбец\n",
    "        with warnings.catch_warnings():\n",
    "            warnings.simplefilter(\"ignore\")\n",
    "            prediction = model_selection.cross_val_predict(method, \n",
    "                                                           data3[c].values.reshape(-1,1),\n",
    "                                                           data3['author'],\n",
    "                                                           cv=cv)\n",
    "        importance[c] = metrics.accuracy_score(data3['author'], prediction)\n",
    "        bar()\n",
    "    cols = list(importance.keys())\n",
    "    fi = np.array([importance[c] for c in cols])"
   ]
  },
  {
   "cell_type": "code",
   "execution_count": 65,
   "id": "76d378b4",
   "metadata": {},
   "outputs": [
    {
     "data": {
      "image/png": "[encoded data removed]",
      "text/plain": [
       "<Figure size 1080x720 with 1 Axes>"
      ]
     },
     "metadata": {
      "needs_background": "light"
     },
     "output_type": "display_data"
    }
   ],
   "source": [
    "fig = plt.figure(figsize=(15,10))\n",
    "plt.rc('font', family='Arial')\n",
    "plt.rcParams['xtick.labelsize'] = 25\n",
    "plt.bar(np.arange(len(cols)), fi, color='m')\n",
    "plt.xticks(np.arange(len(cols)), cols, rotation='vertical')\n",
    "_ = fig.suptitle('Важность признаков', fontsize=20)"
   ]
  },
  {
   "cell_type": "code",
   "execution_count": null,
   "id": "e0f9680e",
   "metadata": {},
   "outputs": [],
   "source": []
  }
 ],
 "metadata": {
  "kernelspec": {
   "display_name": "Python 3",
   "language": "python",
   "name": "python3"
  },
  "language_info": {
   "codemirror_mode": {
    "name": "ipython",
    "version": 3
   },
   "file_extension": ".py",
   "mimetype": "text/x-python",
   "name": "python",
   "nbconvert_exporter": "python",
   "pygments_lexer": "ipython3",
   "version": "3.8.8"
  }
 },
 "nbformat": 4,
 "nbformat_minor": 5
}
